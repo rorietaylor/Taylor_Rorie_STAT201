{
 "cells": [
  {
   "cell_type": "raw",
   "metadata": {
    "vscode": {
     "languageId": "raw"
    }
   },
   "source": [
    "---\n",
    "title: \"Assignment 2\"\n",
    "subtitle: \"STAT 201\"\n",
    "author: \"Rorie Taylor\"\n",
    "format:\n",
    "  html:\n",
    "    toc: true\n",
    "    embed-resources: true\n",
    "---"
   ]
  },
  {
   "cell_type": "markdown",
   "metadata": {},
   "source": [
    "### Instructions"
   ]
  },
  {
   "cell_type": "markdown",
   "metadata": {},
   "source": [
    "1. **Write your name** on the assignment.\n",
    "\n",
    "2. Write your code in the *Code* cells of the **template provided** to write solutions for the assignment. **Do not open a new notebook**, and work from scratch. Ensure that the solution is written neatly enough to understand and grade.\n",
    "\n",
    "3. Use [Quarto](https://quarto.org/docs/output-formats/html-basics.html) to print the *.ipynb* file as HTML. You will need to open the command prompt, navigate to the directory containing the file, and use the command: `quarto render filename.ipynb --to html`. Submit the HTML file.\n",
    "\n",
    "4. You may talk to a friend, discuss the questions and potential directions for solving them. However, you need to write your own solutions and code separately, and not as a group activity. Do not use AI to solve the problems.\n",
    "\n",
    "5. There are 2 points for cleanliness and organization. The breakdown is as follows:\n",
    "    - Must be an HTML file rendered using Quarto. \n",
    "    - There aren’t excessively long outputs of extraneous information (e.g. no printouts of unnecessary results without good reason, there aren’t long printouts of which iteration a loop is on, there aren’t long sections of commented-out code, etc.). There is no piece of unnecessary / redundant code, and no unnecessary / redundant text\n",
    "    - The code follows the [python style guide](https://peps.python.org/pep-0008/) for naming variables, spaces, indentation, etc.\n",
    "    - The code should be commented and clearly written with intuitive variable names. For example, use variable names such as number_input, factor, hours, instead of a,b,xyz, etc."
   ]
  },
  {
   "cell_type": "markdown",
   "metadata": {},
   "source": [
    "### Question 1 (3 points)"
   ]
  },
  {
   "cell_type": "markdown",
   "metadata": {},
   "source": [
    "a) Write a program that counts down from 5 and then prints the message \"Go\"."
   ]
  },
  {
   "cell_type": "code",
   "execution_count": 3,
   "metadata": {},
   "outputs": [
    {
     "name": "stdout",
     "output_type": "stream",
     "text": [
      "5\n",
      "4\n",
      "3\n",
      "2\n",
      "1\n",
      "Go\n"
     ]
    }
   ],
   "source": [
    "for i in range(0, 5):\n",
    "    print(5-i)\n",
    "print(\"Go\")"
   ]
  },
  {
   "cell_type": "markdown",
   "metadata": {},
   "source": [
    "b) Write a program that asks the user for an integer, then counts down from that integer and then prints the message \"Go\". Use a try-except to ensure the user entered an integer. If it is not an integer, return the message \"You must enter an integer\". Show the output of the program if the user inputs `3`. "
   ]
  },
  {
   "cell_type": "code",
   "execution_count": 5,
   "metadata": {},
   "outputs": [
    {
     "name": "stdout",
     "output_type": "stream",
     "text": [
      "3\n",
      "2\n",
      "1\n",
      "Go\n"
     ]
    }
   ],
   "source": [
    "try:\n",
    "    user_integer = int(input(\"Please enter an integer\"))\n",
    "    for i in range(0, user_integer):\n",
    "        print(user_integer-i)\n",
    "    print(\"Go\")\n",
    "    \n",
    "except:\n",
    "    print(\"You must enter an integer\")"
   ]
  },
  {
   "cell_type": "markdown",
   "metadata": {},
   "source": [
    "c) Copy and modify part b to allow the user to keep entering input until they correctly enter an integer (ie: don't end after the except). Show the output of the program if the user first inputs `8.9` and then inputs `7`. "
   ]
  },
  {
   "cell_type": "code",
   "execution_count": 8,
   "metadata": {},
   "outputs": [
    {
     "name": "stdout",
     "output_type": "stream",
     "text": [
      "You must enter an integer\n",
      "7\n",
      "6\n",
      "5\n",
      "4\n",
      "3\n",
      "2\n",
      "1\n",
      "Go\n"
     ]
    }
   ],
   "source": [
    "try:\n",
    "    user_integer = int(input(\"Please enter an integer\"))\n",
    "    for i in range(0, user_integer):\n",
    "        print(user_integer-i)\n",
    "    print(\"Go\")\n",
    "    \n",
    "except:\n",
    "    print(\"You must enter an integer\")\n",
    "    while True:\n",
    "        try:\n",
    "            user_integer = int(input(\"Please enter an integer\"))\n",
    "            for i in range(0, user_integer):\n",
    "                print(user_integer-i)\n",
    "            print(\"Go\")\n",
    "            break\n",
    "        except:\n",
    "            print(\"You must enter an integer\")\n",
    "       \n",
    "       "
   ]
  },
  {
   "cell_type": "markdown",
   "metadata": {},
   "source": [
    "### Question 2 (2 points)"
   ]
  },
  {
   "cell_type": "markdown",
   "metadata": {},
   "source": [
    "Print a star formation as follows:\n",
    "\n",
    "                                             * \n",
    "                                             * * \n",
    "                                             * * * \n",
    "                                             * * * * \n",
    "                                             \n",
    "Ask the user to input the height of the formation first. For example, 4 should return the formation above. Show the output of the program if the user inputs `5`. "
   ]
  },
  {
   "cell_type": "code",
   "execution_count": 9,
   "metadata": {},
   "outputs": [
    {
     "name": "stdout",
     "output_type": "stream",
     "text": [
      "*\n",
      "**\n",
      "***\n",
      "****\n",
      "*****\n"
     ]
    }
   ],
   "source": [
    "formation_height = int(input(\"Please enter the height of the formation\"))\n",
    "for i in range(formation_height):\n",
    "    print(\"*\" * (i+1))"
   ]
  },
  {
   "cell_type": "markdown",
   "metadata": {},
   "source": [
    "### Question 3 (6 points)"
   ]
  },
  {
   "cell_type": "markdown",
   "metadata": {},
   "source": [
    "a) Write a program where you play 3 \"Rock, Paper, Scissors\" games against the computer. Simulate a random choice for the computer each game and ask the user to enter either rock, paper, or scissors. Print the number of times the user won out of 3 games. Show the output of the program after playing the game. \n",
    "\n",
    "Recall: rock beats scissors; scissors beats paper; paper beats rock.\n",
    "\n",
    "Example:\n",
    "\n",
    "                                    \"You won <num_win> out of 3 games.\""
   ]
  },
  {
   "cell_type": "code",
   "execution_count": null,
   "metadata": {},
   "outputs": [
    {
     "name": "stdout",
     "output_type": "stream",
     "text": [
      "The computer chose paper.\n",
      "You chose rock.\n",
      "The computer is the winner of this round.\n",
      "\n",
      "The computer chose scissors.\n",
      "You chose paper.\n",
      "The computer is the winner of this round.\n",
      "\n",
      "The computer chose scissors.\n",
      "You chose rock.\n",
      "You are the winner of this round.\n",
      "\n",
      "You won 1 out of 3 games.\n"
     ]
    }
   ],
   "source": [
    "import random as rm\n",
    "\n",
    "\n",
    "\n",
    "num_win = 0\n",
    "\n",
    "for i in range(3):\n",
    "    comp_choice = rm.choice(['rock', 'paper', 'scissors'])\n",
    "    user_choice = input(\"Please enter either rock, paper, or scissors\")\n",
    "    user_choice = user_choice.strip()\n",
    "    user_choice = user_choice.lower()\n",
    "    if(user_choice == comp_choice):\n",
    "        print(\"The computer chose \" + comp_choice + \".\" + \"\\n\" + \"You chose \" + user_choice + \".\" + \"\\n\" + \"There was a tie.\" + \"\\n\")\n",
    "    elif(user_choice == \"rock\" and comp_choice == \"scissors\"):\n",
    "       print(\"The computer chose \" + comp_choice + \".\" + \"\\n\" + \"You chose \" + user_choice + \".\" + \"\\n\" + \"You are the winner of this round.\" + \"\\n\")\n",
    "       num_win += 1\n",
    "    elif(user_choice == \"scissors\" and comp_choice == \"paper\"):\n",
    "        print(\"The computer chose \" + comp_choice + \".\" + \"\\n\" + \"You chose \" + user_choice + \".\" + \"\\n\" + \"You are the winner of this round.\"  + \"\\n\")\n",
    "        num_win += 1\n",
    "    elif(user_choice == \"paper\" and comp_choice == \"rock\"):\n",
    "        print(\"The computer chose \" + comp_choice + \".\" + \"\\n\" + \"You chose \" + user_choice + \".\" + \"\\n\" + \"You are the winner of this round.\" + \"\\n\")\n",
    "        num_win += 1\n",
    "    elif(user_choice == \"scissors\" and comp_choice == \"rock\"):\n",
    "        print(\"The computer chose \" + comp_choice + \".\" + \"\\n\" + \"You chose \" + user_choice + \".\" + \"\\n\" + \"The computer is the winner of this round.\" + \"\\n\")\n",
    "        num_win == num_win\n",
    "    elif(user_choice == \"paper\" and comp_choice == \"scissors\"):\n",
    "        print(\"The computer chose \" + comp_choice + \".\" + \"\\n\" + \"You chose \" + user_choice + \".\" + \"\\n\" + \"The computer is the winner of this round.\" + \"\\n\")\n",
    "        num_win == num_win\n",
    "    elif(user_choice == \"rock\" and comp_choice == \"paper\"):\n",
    "        print(\"The computer chose \" + comp_choice + \".\" + \"\\n\" + \"You chose \" + user_choice + \".\" + \"\\n\" + \"The computer is the winner of this round.\" + \"\\n\")\n",
    "        num_win = num_win\n",
    "    else:\n",
    "        print(\"Invalid Choice\")\n",
    "\n",
    "print(\"You won \" + str(num_win) + \" out of 3 games.\")  \n",
    "\n",
    "\n",
    "\n",
    "    \n",
    "\n"
   ]
  },
  {
   "cell_type": "markdown",
   "metadata": {},
   "source": [
    "b) Write a program where you play \"Rock, Paper, Scissors\" games against the computer until you have won 3 games. Simulate a random choice for the computer each game and ask the user to enter either rock, paper, or scissors. Print the number of games it took to win 3 times. Show the output of the program after playing the game.\n",
    "\n",
    "Example:\n",
    "\n",
    "                                    \"You won 3 out of <num_games> games.\""
   ]
  },
  {
   "cell_type": "code",
   "execution_count": 2,
   "metadata": {},
   "outputs": [
    {
     "name": "stdout",
     "output_type": "stream",
     "text": [
      "The computer chose paper.\n",
      "You chose paper.\n",
      "There was a tie.\n",
      "\n",
      "The computer chose scissors.\n",
      "You chose rock.\n",
      "You are the winner.\n",
      "\n",
      "The computer chose scissors.\n",
      "You chose rock.\n",
      "You are the winner.\n",
      "\n",
      "The computer chose paper.\n",
      "You chose scissors.\n",
      "You are the winner.\n",
      "\n",
      "You won 3 out of 4 games.\n"
     ]
    }
   ],
   "source": [
    "import random as rm\n",
    "\n",
    "num_win = 0\n",
    "num_games = 0\n",
    "\n",
    "while num_win < 3:\n",
    "    comp_choice = rm.choice(['rock', 'paper', 'scissors'])\n",
    "    user_choice = input(\"Please enter either rock, paper, or scissors\")\n",
    "    num_games += 1\n",
    "    \n",
    "    user_choice = user_choice.lower()\n",
    "    if(user_choice == comp_choice):\n",
    "        print(\"The computer chose \" + comp_choice + \".\" + \"\\n\" + \"You chose \" + user_choice + \".\" + \"\\n\" + \"There was a tie.\" + \"\\n\")\n",
    "        num_win == num_win\n",
    "    elif(user_choice == \"rock\" and comp_choice == \"scissors\"):\n",
    "        print(\"The computer chose \" + comp_choice + \".\" + \"\\n\" + \"You chose \" + user_choice + \".\" + \"\\n\" + \"You are the winner.\" + \"\\n\")\n",
    "        num_win += 1\n",
    "    elif(user_choice == \"scissors\" and comp_choice == \"paper\"):\n",
    "        print(\"The computer chose \" + comp_choice + \".\" + \"\\n\" + \"You chose \" + user_choice + \".\" + \"\\n\" + \"You are the winner.\" + \"\\n\")\n",
    "        num_win += 1\n",
    "    elif(user_choice == \"paper\" and comp_choice == \"rock\"):\n",
    "        print(\"The computer chose \" + comp_choice + \".\" + \"\\n\" + \"You chose \" + user_choice + \".\" + \"\\n\" + \"You are the winner.\" + \"\\n\")\n",
    "        num_win += 1\n",
    "    elif(user_choice == \"scissors\" and comp_choice == \"rock\"):\n",
    "        print(\"The computer chose \" + comp_choice + \".\" + \"\\n\" + \"You chose \" + user_choice + \".\" + \"\\n\" + \"The computer is the winner.\" + \"\\n\")\n",
    "        num_win == num_win\n",
    "    elif(user_choice == \"paper\" and comp_choice == \"scissors\"):\n",
    "        print(\"The computer chose \" + comp_choice + \".\" + \"\\n\" + \"You chose \" + user_choice + \".\" + \"\\n\" + \"The computer is the winner.\" + \"\\n\")\n",
    "        num_win == num_win\n",
    "    elif(user_choice == \"rock\" and comp_choice == \"paper\"):\n",
    "        print(\"The computer chose \" + comp_choice + \".\" + \"\\n\" + \"You chose \" + user_choice + \".\" + \"\\n\" + \"The computer is the winner.\" + \"\\n\")\n",
    "        num_win = num_win\n",
    "    else:\n",
    "        print(\"Invalid Choice\")\n",
    "        num_win = num_win\n",
    "\n",
    "print(\"You won 3 out of \" + str(num_games) + \" games.\")  "
   ]
  },
  {
   "cell_type": "markdown",
   "metadata": {},
   "source": [
    "### Question 4 (6 points)"
   ]
  },
  {
   "cell_type": "markdown",
   "metadata": {},
   "source": [
    "a) Write a program (loop) that prints all the factors of a positive integer input by the user. A factor is any positive integer that divides the number and leaves no remainder. Show the output of the program if the user inputs `24`. \n",
    "\n",
    "Example: The factors of 8 are 1, 2, 4, 8."
   ]
  },
  {
   "cell_type": "code",
   "execution_count": 18,
   "metadata": {},
   "outputs": [
    {
     "name": "stdout",
     "output_type": "stream",
     "text": [
      "The factors of 24 are 1, 2, 3, 4, 6, 8, 12, 24.\n"
     ]
    }
   ],
   "source": [
    "user_number = int(input(\"Please enter a positive integer\"))\n",
    "factors = \"The factors of \" + str(user_number) + \" are \"\n",
    "for i in range(user_number + 1):\n",
    "    if(i != 0):\n",
    "        if(i != user_number):\n",
    "            if(user_number%i == 0):\n",
    "                factors = factors + str(i) + \", \"\n",
    "        elif(i == user_number):\n",
    "            factors = factors + str(i) + \".\"\n",
    "    else:\n",
    "        continue\n",
    "print(factors)"
   ]
  },
  {
   "cell_type": "markdown",
   "metadata": {},
   "source": [
    "b) Write a **function** called `number_of_factors` that takes an integer and returns how many factors the number has. Run your function with `24` to check if it works."
   ]
  },
  {
   "cell_type": "code",
   "execution_count": 20,
   "metadata": {},
   "outputs": [
    {
     "name": "stdout",
     "output_type": "stream",
     "text": [
      "8\n"
     ]
    }
   ],
   "source": [
    "def number_of_factors(user_number):\n",
    "    num_factors = 0\n",
    "    for i in range(user_number + 1):\n",
    "        if(i != 0):\n",
    "            if(user_number%i == 0):\n",
    "                    num_factors += 1\n",
    "        else:\n",
    "            continue\n",
    "    print(num_factors)\n",
    "\n",
    "number_of_factors(24)"
   ]
  },
  {
   "cell_type": "markdown",
   "metadata": {},
   "source": [
    "### Question 5 (6 points)"
   ]
  },
  {
   "cell_type": "markdown",
   "metadata": {},
   "source": [
    "a) Write a program (loop) that identifies whether a positive integer input by the user is prime or not. A prime number is a number whose only divisors are 1 and itself. Show the output when the program is used to check if `89` is prime or not."
   ]
  },
  {
   "cell_type": "code",
   "execution_count": null,
   "metadata": {},
   "outputs": [],
   "source": []
  },
  {
   "cell_type": "code",
   "execution_count": 21,
   "metadata": {},
   "outputs": [
    {
     "name": "stdout",
     "output_type": "stream",
     "text": [
      "True\n"
     ]
    }
   ],
   "source": [
    "user_number = int(input(\"Please enter a positive integer\"))\n",
    "is_prime = True\n",
    "\n",
    "for i in range(user_number + 1):\n",
    "    if((i != 0) and (i != 1) and (i != user_number)):\n",
    "        if(user_number%i == 0):\n",
    "            is_prime = False\n",
    "            break\n",
    "    else:\n",
    "        continue\n",
    "\n",
    "print(is_prime)"
   ]
  },
  {
   "cell_type": "markdown",
   "metadata": {},
   "source": [
    "b) Write a **function** that checks if a positive integer is prime or not. It should take one integer input and return a boolean. Run your function with `197` to check if it works."
   ]
  },
  {
   "cell_type": "code",
   "execution_count": 27,
   "metadata": {},
   "outputs": [
    {
     "name": "stdout",
     "output_type": "stream",
     "text": [
      "True\n"
     ]
    }
   ],
   "source": [
    "def is_prime(user_number):\n",
    "    is_prime = True\n",
    "    for i in range(user_number + 1):\n",
    "        if((i != 0) and (i != 1) and (i != user_number)):\n",
    "            if(user_number%i == 0):\n",
    "                is_prime = False\n",
    "                break\n",
    "        else:\n",
    "            continue\n",
    "\n",
    "    print(is_prime)\n",
    "\n",
    "is_prime(197)"
   ]
  },
  {
   "cell_type": "markdown",
   "metadata": {},
   "source": [
    "### Question 6 (4 points)"
   ]
  },
  {
   "cell_type": "markdown",
   "metadata": {},
   "source": [
    "Write a function that calculates the area of a rectangle. The function should have an input for length (in inches) and width (in inches). And have 2 ouputs: the area in terms of square inches and the area in terms of square feet. There are 12 inches in 1 foot. Run your function with a length of 102 inches and width of 60 inches to check if it works."
   ]
  },
  {
   "cell_type": "code",
   "execution_count": 25,
   "metadata": {},
   "outputs": [
    {
     "name": "stdout",
     "output_type": "stream",
     "text": [
      "The area of the rectangle is 6120.0 square inches.\n",
      "The area of the rectangle is 42.5 square feet.\n"
     ]
    }
   ],
   "source": [
    "def area_of_rectangle(length, width):\n",
    "    area_sqin = float(length * width)\n",
    "    area_sqft = area_sqin / 144\n",
    "    print(\"The area of the rectangle is \" + str(area_sqin) + \" square inches.\")\n",
    "    print(\"The area of the rectangle is \" + str(area_sqft) + \" square feet.\")\n",
    "\n",
    "area_of_rectangle(102, 60)\n",
    "\n"
   ]
  },
  {
   "cell_type": "markdown",
   "metadata": {},
   "source": [
    "### Question 7 (3 points)"
   ]
  },
  {
   "cell_type": "markdown",
   "metadata": {},
   "source": [
    "Write a function that takes a word and a sentence as two string inputs and returns the number of times the word occurs in the sentence as the output.\n",
    "\n",
    "Run your function with **\"sea\"** and **“Sea shells are on the sea shore when the sea is calm.”** inputs to check if it works. Your function should work for any word and sentence. \n",
    "\n",
    "Note: at this time it does not have to differentiate a distinct word just if it appears in any form. Example: **“The sea gives me nausea.”** would return 2."
   ]
  },
  {
   "cell_type": "code",
   "execution_count": 26,
   "metadata": {},
   "outputs": [
    {
     "name": "stdout",
     "output_type": "stream",
     "text": [
      "3\n"
     ]
    }
   ],
   "source": [
    "def number_of_times(word, sentence):\n",
    "    word = word.lower()\n",
    "    sentence = sentence.lower()\n",
    "    counter = 0\n",
    "    for i in range(len(sentence)):\n",
    "        if sentence[i:(i+len(word))] == word:\n",
    "            counter += 1\n",
    "    print(counter)\n",
    "                     \n",
    "number_of_times(\"sea\", \"Sea shells are on the sea shore when the sea is calm\")"
   ]
  }
 ],
 "metadata": {
  "kernelspec": {
   "display_name": ".venv",
   "language": "python",
   "name": "python3"
  },
  "language_info": {
   "codemirror_mode": {
    "name": "ipython",
    "version": 3
   },
   "file_extension": ".py",
   "mimetype": "text/x-python",
   "name": "python",
   "nbconvert_exporter": "python",
   "pygments_lexer": "ipython3",
   "version": "3.13.2"
  }
 },
 "nbformat": 4,
 "nbformat_minor": 4
}
