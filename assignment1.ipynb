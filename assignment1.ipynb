{
 "cells": [
  {
   "cell_type": "raw",
   "metadata": {
    "vscode": {
     "languageId": "raw"
    }
   },
   "source": [
    "---\n",
    "title: \"Assignment 1\"\n",
    "subtitle: \"STAT 201\"\n",
    "author: \"Rorie Taylor\"\n",
    "format:\n",
    "  html:\n",
    "    toc: true\n",
    "    embed-resources: true\n",
    "jupyter: python3\n",
    "---"
   ]
  },
  {
   "cell_type": "markdown",
   "metadata": {},
   "source": [
    "## Instructions {-}\n",
    "\n",
    "1. **Write your name** on the assignment.\n",
    "\n",
    "2. Write your code in the *Code* cells of the **template provided** to write solutions for the assignment. **Do not open a new notebook**, and work from scratch. Ensure that the solution is written neatly enough to understand and grade.\n",
    "\n",
    "3. Use [Quarto](https://quarto.org/docs/output-formats/html-basics.html) to print the *.ipynb* file as HTML. You will need to open the command prompt, navigate to the directory containing the file, and use the command: `quarto render filename.ipynb --to html`. Submit the HTML file.\n",
    "\n",
    "4. You may talk to a friend, discuss the questions and potential directions for solving them. However, you need to write your own solutions and code separately, and not as a group activity. Do not use AI to solve the problems.\n",
    "\n",
    "5. If your document is not clean and organized, you can lose up to 2 points:\n",
    "\n",
    "    - Must be an HTML file rendered using Quarto. \n",
    "    - There aren’t excessively long outputs of extraneous information (e.g. no printouts of unnecessary results without good reason, there aren’t long printouts of which iteration a loop is on, there aren’t long sections of commented-out code, etc.). There is no piece of unnecessary / redundant code, and no unnecessary / redundant text\n",
    "    - The code follows the [python style guide](https://peps.python.org/pep-0008/) for naming variables, spaces, indentation, etc.\n",
    "    - The code should be commented and clearly written with intuitive variable names. For example, use variable names such as number_input, factor, hours, instead of a,b,xyz, etc.\n",
    "\n",
    "6. If your document does not include the output of your code, you may lose up to 5 points."
   ]
  },
  {
   "cell_type": "markdown",
   "metadata": {},
   "source": [
    "## Question 1 (4 points)"
   ]
  },
  {
   "cell_type": "markdown",
   "metadata": {},
   "source": [
    "a) Create a a variable called `var_float` that contains a decimal number."
   ]
  },
  {
   "cell_type": "code",
   "execution_count": 145,
   "metadata": {},
   "outputs": [],
   "source": [
    "var_float = 3.14"
   ]
  },
  {
   "cell_type": "markdown",
   "metadata": {},
   "source": [
    "b) Store a sentence as `var_sent` that reads exactly as follows: \"The square of `{}` is `{}`.\" Where the first `{}` is your `var_float` and the second `{}` is the square of that variable. Print your sentence."
   ]
  },
  {
   "cell_type": "code",
   "execution_count": 146,
   "metadata": {},
   "outputs": [
    {
     "name": "stdout",
     "output_type": "stream",
     "text": [
      "The square of 3.14 is 9.8596.\n"
     ]
    }
   ],
   "source": [
    "var_sent = \"The square of \" + str(var_float) + \" is \" + str(var_float**2) +\".\"\n",
    "print(var_sent) "
   ]
  },
  {
   "cell_type": "markdown",
   "metadata": {},
   "source": [
    "c) Print the output of using the `count` **method** to determine how many spaces are in `var_sent`."
   ]
  },
  {
   "cell_type": "code",
   "execution_count": 147,
   "metadata": {},
   "outputs": [
    {
     "name": "stdout",
     "output_type": "stream",
     "text": [
      "5\n"
     ]
    }
   ],
   "source": [
    "print(var_sent.count(\" \"))"
   ]
  },
  {
   "cell_type": "markdown",
   "metadata": {},
   "source": [
    "d) Round your `var_float` to 0 decimal places and convert to an integer. Store this as `var_int` and print the `type` to verify this was done correctly."
   ]
  },
  {
   "cell_type": "code",
   "execution_count": 149,
   "metadata": {},
   "outputs": [
    {
     "name": "stdout",
     "output_type": "stream",
     "text": [
      "<class 'int'>\n"
     ]
    }
   ],
   "source": [
    "var_rounded = \"{:.0f}\".format(var_float)\n",
    "var_int = int(var_rounded)\n",
    "print(type(var_int))"
   ]
  },
  {
   "cell_type": "markdown",
   "metadata": {},
   "source": [
    "## Question 2 (3 points)"
   ]
  },
  {
   "cell_type": "markdown",
   "metadata": {},
   "source": [
    "Have a user input 2 Booleans (hint: must be type bool). In a **single print line**, using only `and`, `or`, `not` functions, have the output return True if both variables are the same, and False is they are different. \n",
    "\n",
    "Clarification: 1) cannot use conditional if statements 2) this must be capable of printing the correct output for any possible booleans the user could enter, not just the one example that your html will show."
   ]
  },
  {
   "cell_type": "code",
   "execution_count": 176,
   "metadata": {},
   "outputs": [
    {
     "name": "stdout",
     "output_type": "stream",
     "text": [
      "False\n"
     ]
    }
   ],
   "source": [
    "#Chose True as the first input for this example\n",
    "answer_one = input(\"True or False: You have at least one brother?\")\n",
    "answer_one = answer_one.strip()\n",
    "answer_one = answer_one.lower()\n",
    "answer_one = answer_one.replace(\"true\", \"1\")\n",
    "answer_one = answer_one.replace(\"false\", \"0\")\n",
    "answer_one = bool(int(answer_one))\n",
    "\n",
    "#Chose False as the second input for this example\n",
    "answer_two = input(\"True or False: You have at least one sister?\")\n",
    "answer_two = answer_two.strip()\n",
    "answer_two = answer_two.lower()\n",
    "answer_two = answer_two.replace(\"true\", \"1\")\n",
    "answer_two = answer_two.replace(\"false\", \"0\")\n",
    "answer_two = bool(int(answer_two))\n",
    "\n",
    "print((answer_one and answer_two) or ((not answer_one and not answer_two)))"
   ]
  },
  {
   "cell_type": "markdown",
   "metadata": {},
   "source": [
    "## Question 3 (6 points)"
   ]
  },
  {
   "cell_type": "markdown",
   "metadata": {},
   "source": [
    "At Northwestern, email addresses are classified as follows:\n",
    "\n",
    "- **Student email addresses** end with `@u.northwestern.edu`.\n",
    "- **Professor email addresses** end with `@northwestern.edu` (but not `@u.northwestern.edu`).\n",
    "\n",
    "Write a Python program that:\n",
    "1. Asks the user how many email addresses they will enter.\n",
    "2. Prompts the user to input each email address.\n",
    "3. After all email addresses are entered:\n",
    "   - Print all professor email addresses under the heading `\"Professor Emails:\"`.\n",
    "   - Print all student email addresses under the heading `\"Student Emails:\"`.\n",
    "   - If no professor or student emails were entered, print `\"None\"` under the respective heading.\n",
    "\n",
    "### Requirements:\n",
    "- Do not use lists or other advanced data structures, since we have not covered them yet.\n",
    "- Use only basic string operations and loops.\n",
    "- **The program must handle all cases**, regardless of uppercase or lowercase in the email addresses.\n",
    "- **Trim any leading or trailing whitespace** in the user input before classifying the email.\n",
    "\n",
    "**Example Run:**\n",
    "\n",
    "How many email addresses will you be entering? 3 <br>\n",
    "Enter an email address: lshi@northwestern.edu  <br>\n",
    "Enter an email address: jackyu@u.northwestern.edu  <br>\n",
    "Enter an email address:   Alexa@u.northwestern.edu  <br>\n",
    "\n",
    "**Output:**\n",
    "\n",
    "Professor Emails: <br>\n",
    "lshi@northwestern.edu <br>\n",
    "\n",
    "Student Emails: <br>\n",
    "jackyu@u.northwestern.edu <br>\n",
    "alexa@u.northwestern.edu <br>\n"
   ]
  },
  {
   "cell_type": "code",
   "execution_count": null,
   "metadata": {},
   "outputs": [
    {
     "name": "stdout",
     "output_type": "stream",
     "text": [
      "Professor Emails:\n",
      "lshi@northwestern.edu\n",
      "\n",
      "Student Emails:\n",
      "jackyu@u.northwestern.edu\n",
      "alexa@u.northwestern.edu\n",
      "\n"
     ]
    }
   ],
   "source": [
    "number_of_emails = int(input(\"How many email addresses will you be entering?\"))\n",
    "professor_emails = \"\"\n",
    "student_emails = \"\"\n",
    "\n",
    "for i in range(number_of_emails):\n",
    "    email_address = input(\"Enter an email address:\")\n",
    "    email_address = email_address.strip()\n",
    "    email_address = email_address.lower()\n",
    "    if(email_address.find(\"@u.northwestern.edu\") != -1):\n",
    "        student_emails = student_emails + email_address + \"\\n\"\n",
    "    elif((email_address.find(\"@northwestern.edu\")) != -1):\n",
    "        professor_emails = professor_emails + email_address + \"\\n\"\n",
    "    else:\n",
    "        continue\n",
    "        \n",
    "print(\"Professor Emails:\")\n",
    "if bool(professor_emails) == False:\n",
    "    print(\"None\")\n",
    "else:\n",
    "    print(professor_emails)\n",
    "print(\"Student Emails:\")\n",
    "if bool(student_emails) == False:\n",
    "    print(\"None\")\n",
    "else:\n",
    "    print(student_emails)"
   ]
  },
  {
   "cell_type": "markdown",
   "metadata": {},
   "source": [
    "## Question 4 (3 points)"
   ]
  },
  {
   "cell_type": "markdown",
   "metadata": {},
   "source": [
    "Write a tip calculator program that asks the user for the price of the meal and the percent tip they want to leave. Then print a sentence that displays both the tip amount and total bill. Example if meal price is 25 dollars and tip is 15 percent:\n",
    "                                   \n",
    "                                   Your tip amount is $3.75 and your total bill is $28.75."
   ]
  },
  {
   "cell_type": "code",
   "execution_count": 157,
   "metadata": {},
   "outputs": [
    {
     "name": "stdout",
     "output_type": "stream",
     "text": [
      "Your tip amount is $3.75 and your total bill is $28.75.\n"
     ]
    }
   ],
   "source": [
    "meal_price = int(input(\"What was the price of your meal?\"))\n",
    "percent_tip = int(input(\"What percent tip would you like to leave?\"))\n",
    "tip = percent_tip / 100 * meal_price\n",
    "total_bill = meal_price + tip\n",
    "print(\"Your tip amount is $\" + str(tip) + \" and your total bill is $\" + str(total_bill) + \".\")"
   ]
  },
  {
   "cell_type": "markdown",
   "metadata": {},
   "source": [
    "## Question 5 (3 points)"
   ]
  },
  {
   "cell_type": "markdown",
   "metadata": {},
   "source": [
    "Write a program that asks the user for a number of seconds and prints out how many minutes and seconds that is. Example:\n",
    "\n",
    "                                    200 seconds is 3 minutes and 20 seconds.\n",
    "                                               \n",
    "**Use only two lines of code for this question: one line for the input and one line for the print.** "
   ]
  },
  {
   "cell_type": "code",
   "execution_count": 158,
   "metadata": {},
   "outputs": [
    {
     "name": "stdout",
     "output_type": "stream",
     "text": [
      "200 seconds is 3 minutes and 20 seconds.\n"
     ]
    }
   ],
   "source": [
    "num_seconds = int(input(\"Please enter a number of seconds\"))\n",
    "print(str(num_seconds) + \" seconds is \" + str(int((num_seconds/60))) + \" minutes and \" + str(num_seconds % 60) + \" seconds.\")"
   ]
  },
  {
   "cell_type": "markdown",
   "metadata": {},
   "source": [
    "## Question 6 (4 points)"
   ]
  },
  {
   "cell_type": "markdown",
   "metadata": {},
   "source": [
    "Write a program that asks the user to enter two numbers. Have the program return one of the following messages depending on which criteria is met. \n",
    "\n",
    "\"`num1` is greater than `num2`\"; \"`num 1` is less than `num2`\"; \"`num1` is equal to `num2`\"; where `num1` and `num2` are the user inputed values.\n",
    "\n",
    "Show the output of the program with any two numbers of your choice."
   ]
  },
  {
   "cell_type": "code",
   "execution_count": 167,
   "metadata": {},
   "outputs": [
    {
     "name": "stdout",
     "output_type": "stream",
     "text": [
      "200 is greater than 150\n"
     ]
    }
   ],
   "source": [
    "#Chose the number 200 as the first number for this example\n",
    "num1 = int(input(\"Please enter one number\"))\n",
    "\n",
    "#Chose the number 150 as the second number for this example\n",
    "num2 = int(input(\"Please enter a second number\"))\n",
    "if(num1 > num2):\n",
    "    print(str(num1) + \" is greater than \" + str(num2))\n",
    "elif(num2 > num1):\n",
    "    print(str(num1) + \" is less than \" + str(num2))\n",
    "elif(num1 == num2):\n",
    "    print(str(num1) + \" is equal to \" + str(num2))"
   ]
  },
  {
   "cell_type": "markdown",
   "metadata": {},
   "source": [
    "## Question 7 (4 points)"
   ]
  },
  {
   "cell_type": "markdown",
   "metadata": {},
   "source": [
    "a) Use a **single if-elif-else** statement to print the smallest of 3 user defined numbers. Show the output of the program with any three numbers of your choice."
   ]
  },
  {
   "cell_type": "code",
   "execution_count": 168,
   "metadata": {},
   "outputs": [
    {
     "name": "stdout",
     "output_type": "stream",
     "text": [
      "200\n"
     ]
    }
   ],
   "source": [
    "#Chose the number 1000 as the first number for this example\n",
    "first_number = int(input(\"Please enter a number\"))\n",
    "\n",
    "#Chose the number 200 as the second number for this example\n",
    "second_number = int(input(\"Please enter a number\"))\n",
    "\n",
    "#Chose the number 500 as the third number for this example\n",
    "third_number = int(input(\"Please enter a number\"))\n",
    "numbers_ordered = \"\"\n",
    "if(first_number <= second_number and first_number <= third_number):\n",
    "    print(first_number)\n",
    "elif(second_number <= first_number and second_number <= third_number):\n",
    "    print(second_number)\n",
    "else: \n",
    "    print(third_number)\n",
    "\n"
   ]
  },
  {
   "cell_type": "markdown",
   "metadata": {},
   "source": [
    "b) Use a **nested** conditional statement to print the smallest of 3 user defined numbers. Show the output of the program with any three numbers of your choice."
   ]
  },
  {
   "cell_type": "code",
   "execution_count": 177,
   "metadata": {},
   "outputs": [
    {
     "name": "stdout",
     "output_type": "stream",
     "text": [
      "200\n"
     ]
    }
   ],
   "source": [
    "#Chose the number 1000 as the first number for this example\n",
    "first_number = int(input(\"Please enter a number\"))\n",
    "\n",
    "#Chose the number 200 as the second number for this example\n",
    "second_number = int(input(\"Please enter a number\"))\n",
    "\n",
    "#Chose the number 500 as the third number for this example\n",
    "third_number = int(input(\"Please enter a number\"))\n",
    "\n",
    "numbers_ordered = \"\"\n",
    "\n",
    "if(first_number <= second_number):\n",
    "    if(first_number <= third_number):\n",
    "        print(first_number)\n",
    "elif(second_number <= third_number):\n",
    "    if(second_number <= first_number):\n",
    "        print(second_number)\n",
    "elif(third_number <= first_number):\n",
    "    if(third_number <= second_number):\n",
    "        print(third_number)"
   ]
  },
  {
   "cell_type": "markdown",
   "metadata": {},
   "source": [
    "## Question 8 (6 points)"
   ]
  },
  {
   "cell_type": "markdown",
   "metadata": {},
   "source": [
    "Write a program that asks the user to enter either rock, paper, or scissors. Use a conditional statement to determine if the user wins, loses, or ties the computer at the game \"Rock, Paper, Scissors\". Note: rock beats scissors; scissors beats paper; paper beats rock\n",
    "\n",
    "Print a meaningful sentence that includes the winner, the computer's choice, and the user's choice.\n",
    "\n",
    "- Handle case sensitivity (example: if the user enters Rock, it will still run). \n",
    "- If the user enters a word other than one of the choices, print \"Invalid choice.\". \n",
    "- Show the output of the program when the user enters Rock (capitalized)"
   ]
  },
  {
   "cell_type": "code",
   "execution_count": null,
   "metadata": {},
   "outputs": [
    {
     "name": "stdout",
     "output_type": "stream",
     "text": [
      "The computer chose paper.\n",
      "You chose rock.\n",
      "The computer is the winner.\n"
     ]
    }
   ],
   "source": [
    "# starter code to generate a random choice of rock, paper, scissors\n",
    "import random as rm\n",
    "comp_choice = rm.choice(['rock', 'paper', 'scissors'])\n",
    "\n",
    "# your solution in this code chunk below\n",
    "user_choice = input(\"Please enter either rock, paper, or scissors\")\n",
    "\n",
    "user_choice = user_choice.strip()\n",
    "user_choice = user_choice.lower()\n",
    "\n",
    "if(user_choice == comp_choice):\n",
    "    print(\"The computer chose \" + comp_choice + \".\" + \"\\n\" + \"You chose \" + user_choice + \".\" + \"\\n\" + \"There was a tie.\")\n",
    "elif(user_choice == \"rock\" and comp_choice == \"scissors\"):\n",
    "    print(\"The computer chose \" + comp_choice + \".\" + \"\\n\" + \"You chose \" + user_choice + \".\" + \"\\n\" + \"You are the winner.\")\n",
    "elif(user_choice == \"scissors\" and comp_choice == \"paper\"):\n",
    "    print(\"The computer chose \" + comp_choice + \".\" + \"\\n\" + \"You chose \" + user_choice + \".\" + \"\\n\" + \"You are the winner.\")\n",
    "elif(user_choice == \"paper\" and comp_choice == \"rock\"):\n",
    "    print(\"The computer chose \" + comp_choice + \".\" + \"\\n\" + \"You chose \" + user_choice + \".\" + \"\\n\" + \"You are the winner.\")\n",
    "elif(user_choice == \"scissors\" and comp_choice == \"rock\"):\n",
    "    print(\"The computer chose \" + comp_choice + \".\" + \"\\n\" + \"You chose \" + user_choice + \".\" + \"\\n\" + \"The computer is the winner.\")\n",
    "elif(user_choice == \"paper\" and comp_choice == \"scissors\"):\n",
    "    print(\"The computer chose \" + comp_choice + \".\" + \"\\n\" + \"You chose \" + user_choice + \".\" + \"\\n\" + \"The computer is the winner.\")\n",
    "elif(user_choice == \"rock\" and comp_choice == \"paper\"):\n",
    "    print(\"The computer chose \" + comp_choice + \".\" + \"\\n\" + \"You chose \" + user_choice + \".\" + \"\\n\" + \"The computer is the winner.\")\n",
    "else:\n",
    "    print(\"Invalid Choice\")"
   ]
  },
  {
   "cell_type": "markdown",
   "metadata": {},
   "source": [
    "## Bonus (6 points)\n",
    "\n",
    "FFor all questions in this assignment that involve accepting user input:\n",
    "\n",
    "- Use a **`try-except` block** to handle cases where the user may enter invalid input (e.g., non-numeric values).\n",
    "- Implement a **loop** that repeatedly prompts the user until a valid value is provided, so the program can proceed safely.\n",
    "- To receive credit, you must **revise each applicable question** by modifying your code to include both the input loop and error handling directly in that question’s solution.\n",
    "\n",
    "Each revised question is worth **1 point**."
   ]
  }
 ],
 "metadata": {
  "kernelspec": {
   "display_name": ".venv",
   "language": "python",
   "name": "python3"
  },
  "language_info": {
   "codemirror_mode": {
    "name": "ipython",
    "version": 3
   },
   "file_extension": ".py",
   "mimetype": "text/x-python",
   "name": "python",
   "nbconvert_exporter": "python",
   "pygments_lexer": "ipython3",
   "version": "3.13.2"
  }
 },
 "nbformat": 4,
 "nbformat_minor": 4
}
